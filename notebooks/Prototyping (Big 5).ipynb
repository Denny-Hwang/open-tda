{
 "cells": [
  {
   "cell_type": "code",
   "execution_count": 1,
   "metadata": {},
   "outputs": [],
   "source": [
    "import warnings\n",
    "\n",
    "import ipywidgets as widgets\n",
    "import kmapper as km\n",
    "import matplotlib.cm\n",
    "import matplotlib.pyplot as plt\n",
    "import numpy as np\n",
    "import pandas as pd\n",
    "from hdbscan import HDBSCAN\n",
    "from IPython.display import HTML, clear_output, display\n",
    "from ipywidgets import fixed, interact, interact_manual, interactive\n",
    "from sklearn.cluster import DBSCAN, AgglomerativeClustering, KMeans\n",
    "from sklearn.decomposition import TruncatedSVD\n",
    "from sklearn.ensemble import IsolationForest\n",
    "from umap import UMAP\n",
    "\n",
    "import graph_tool.all as gt\n",
    "\n",
    "warnings.filterwarnings(\"ignore\", category=FutureWarning)\n",
    "\n",
    "%matplotlib inline\n"
   ]
  },
  {
   "cell_type": "markdown",
   "metadata": {},
   "source": [
    "## Data Cleaning\n",
    "\n",
    "We're using the a Big Five Personality Factors dataset from [here](https://openpsychometrics.org/_rawdata/), with the idea that there should be a grouping of *five* that we might be able to pull out from the data.\n",
    "\n",
    "The only real data cleaning step is to reverse some of the negatively phrased questions for each factor (i.e. a higher score should align with a higher factor score). This will just make interpreting and analysis easier. [See here](https://ipip.ori.org/new_ipip-50-item-scale.htm) for more info on the questions."
   ]
  },
  {
   "cell_type": "code",
   "execution_count": 2,
   "metadata": {},
   "outputs": [],
   "source": [
    "df = pd.read_csv('../data/data.csv', sep=\"\\t\")"
   ]
  },
  {
   "cell_type": "code",
   "execution_count": 3,
   "metadata": {},
   "outputs": [
    {
     "data": {
      "text/html": [
       "<div>\n",
       "<style scoped>\n",
       "    .dataframe tbody tr th:only-of-type {\n",
       "        vertical-align: middle;\n",
       "    }\n",
       "\n",
       "    .dataframe tbody tr th {\n",
       "        vertical-align: top;\n",
       "    }\n",
       "\n",
       "    .dataframe thead th {\n",
       "        text-align: right;\n",
       "    }\n",
       "</style>\n",
       "<table border=\"1\" class=\"dataframe\">\n",
       "  <thead>\n",
       "    <tr style=\"text-align: right;\">\n",
       "      <th></th>\n",
       "      <th>race</th>\n",
       "      <th>age</th>\n",
       "      <th>engnat</th>\n",
       "      <th>gender</th>\n",
       "      <th>hand</th>\n",
       "      <th>source</th>\n",
       "      <th>country</th>\n",
       "      <th>E1</th>\n",
       "      <th>E2</th>\n",
       "      <th>E3</th>\n",
       "      <th>...</th>\n",
       "      <th>O1</th>\n",
       "      <th>O2</th>\n",
       "      <th>O3</th>\n",
       "      <th>O4</th>\n",
       "      <th>O5</th>\n",
       "      <th>O6</th>\n",
       "      <th>O7</th>\n",
       "      <th>O8</th>\n",
       "      <th>O9</th>\n",
       "      <th>O10</th>\n",
       "    </tr>\n",
       "  </thead>\n",
       "  <tbody>\n",
       "    <tr>\n",
       "      <th>0</th>\n",
       "      <td>3</td>\n",
       "      <td>53</td>\n",
       "      <td>1</td>\n",
       "      <td>1</td>\n",
       "      <td>1</td>\n",
       "      <td>1</td>\n",
       "      <td>US</td>\n",
       "      <td>4</td>\n",
       "      <td>2</td>\n",
       "      <td>5</td>\n",
       "      <td>...</td>\n",
       "      <td>4</td>\n",
       "      <td>1</td>\n",
       "      <td>3</td>\n",
       "      <td>1</td>\n",
       "      <td>5</td>\n",
       "      <td>1</td>\n",
       "      <td>4</td>\n",
       "      <td>2</td>\n",
       "      <td>5</td>\n",
       "      <td>5</td>\n",
       "    </tr>\n",
       "    <tr>\n",
       "      <th>1</th>\n",
       "      <td>13</td>\n",
       "      <td>46</td>\n",
       "      <td>1</td>\n",
       "      <td>2</td>\n",
       "      <td>1</td>\n",
       "      <td>1</td>\n",
       "      <td>US</td>\n",
       "      <td>2</td>\n",
       "      <td>2</td>\n",
       "      <td>3</td>\n",
       "      <td>...</td>\n",
       "      <td>3</td>\n",
       "      <td>3</td>\n",
       "      <td>3</td>\n",
       "      <td>3</td>\n",
       "      <td>2</td>\n",
       "      <td>3</td>\n",
       "      <td>3</td>\n",
       "      <td>1</td>\n",
       "      <td>3</td>\n",
       "      <td>2</td>\n",
       "    </tr>\n",
       "    <tr>\n",
       "      <th>2</th>\n",
       "      <td>1</td>\n",
       "      <td>14</td>\n",
       "      <td>2</td>\n",
       "      <td>2</td>\n",
       "      <td>1</td>\n",
       "      <td>1</td>\n",
       "      <td>PK</td>\n",
       "      <td>5</td>\n",
       "      <td>1</td>\n",
       "      <td>1</td>\n",
       "      <td>...</td>\n",
       "      <td>4</td>\n",
       "      <td>5</td>\n",
       "      <td>5</td>\n",
       "      <td>1</td>\n",
       "      <td>5</td>\n",
       "      <td>1</td>\n",
       "      <td>5</td>\n",
       "      <td>5</td>\n",
       "      <td>5</td>\n",
       "      <td>5</td>\n",
       "    </tr>\n",
       "    <tr>\n",
       "      <th>3</th>\n",
       "      <td>3</td>\n",
       "      <td>19</td>\n",
       "      <td>2</td>\n",
       "      <td>2</td>\n",
       "      <td>1</td>\n",
       "      <td>1</td>\n",
       "      <td>RO</td>\n",
       "      <td>2</td>\n",
       "      <td>5</td>\n",
       "      <td>2</td>\n",
       "      <td>...</td>\n",
       "      <td>4</td>\n",
       "      <td>3</td>\n",
       "      <td>5</td>\n",
       "      <td>2</td>\n",
       "      <td>4</td>\n",
       "      <td>2</td>\n",
       "      <td>5</td>\n",
       "      <td>2</td>\n",
       "      <td>5</td>\n",
       "      <td>5</td>\n",
       "    </tr>\n",
       "    <tr>\n",
       "      <th>4</th>\n",
       "      <td>11</td>\n",
       "      <td>25</td>\n",
       "      <td>2</td>\n",
       "      <td>2</td>\n",
       "      <td>1</td>\n",
       "      <td>2</td>\n",
       "      <td>US</td>\n",
       "      <td>3</td>\n",
       "      <td>1</td>\n",
       "      <td>3</td>\n",
       "      <td>...</td>\n",
       "      <td>3</td>\n",
       "      <td>1</td>\n",
       "      <td>1</td>\n",
       "      <td>1</td>\n",
       "      <td>3</td>\n",
       "      <td>1</td>\n",
       "      <td>3</td>\n",
       "      <td>1</td>\n",
       "      <td>5</td>\n",
       "      <td>3</td>\n",
       "    </tr>\n",
       "  </tbody>\n",
       "</table>\n",
       "<p>5 rows × 57 columns</p>\n",
       "</div>"
      ],
      "text/plain": [
       "   race  age  engnat  gender  hand  source country  E1  E2  E3  ...  O1  O2  \\\n",
       "0     3   53       1       1     1       1      US   4   2   5  ...   4   1   \n",
       "1    13   46       1       2     1       1      US   2   2   3  ...   3   3   \n",
       "2     1   14       2       2     1       1      PK   5   1   1  ...   4   5   \n",
       "3     3   19       2       2     1       1      RO   2   5   2  ...   4   3   \n",
       "4    11   25       2       2     1       2      US   3   1   3  ...   3   1   \n",
       "\n",
       "   O3  O4  O5  O6  O7  O8  O9  O10  \n",
       "0   3   1   5   1   4   2   5    5  \n",
       "1   3   3   2   3   3   1   3    2  \n",
       "2   5   1   5   1   5   5   5    5  \n",
       "3   5   2   4   2   5   2   5    5  \n",
       "4   1   1   3   1   3   1   5    3  \n",
       "\n",
       "[5 rows x 57 columns]"
      ]
     },
     "execution_count": 3,
     "metadata": {},
     "output_type": "execute_result"
    }
   ],
   "source": [
    "df.head()"
   ]
  },
  {
   "cell_type": "code",
   "execution_count": 4,
   "metadata": {},
   "outputs": [],
   "source": [
    "demo_cols = ['race', 'age', 'engnat', 'gender', 'hand', 'source', 'country']\n",
    "question_columns = [col for col in df.columns if col not in demo_cols]\n",
    "o_columns = [col for col in df.columns if col.startswith(\"O\")]\n",
    "c_columns = [col for col in df.columns if col.startswith(\"C\")]\n",
    "e_columns = [col for col in df.columns if col.startswith(\"E\")]\n",
    "a_columns = [col for col in df.columns if col.startswith(\"A\")]\n",
    "n_columns = [col for col in df.columns if col.startswith(\"N\")]"
   ]
  },
  {
   "cell_type": "code",
   "execution_count": 5,
   "metadata": {},
   "outputs": [],
   "source": [
    "flip_qs = 'E2 E4 E6 E8 E10 N2 N4 A1 A3 A5 A7 C2 C4 C6 C8 O2 O4 O6'.split()\n",
    "for q in flip_qs:\n",
    "    df[q] = df[q].apply(lambda x: abs(x-6))"
   ]
  },
  {
   "cell_type": "code",
   "execution_count": 6,
   "metadata": {},
   "outputs": [],
   "source": [
    "for columns in [o_columns, c_columns, e_columns, a_columns, n_columns]:\n",
    "    assert (df[columns].corr() > 0).all(axis=None)"
   ]
  },
  {
   "cell_type": "code",
   "execution_count": 7,
   "metadata": {},
   "outputs": [],
   "source": [
    "X = df[question_columns].drop_duplicates()"
   ]
  },
  {
   "cell_type": "markdown",
   "metadata": {},
   "source": [
    "## Creating the Projection Interface\n",
    "We'll need 4 parameters for MAPPER: the lens, the clusterer, the number of cubes, and the overlap percentage. Since both the lens creation and the mapper can be computationally intensive, we'll include a run button to run on command rather than update continually.\n",
    "\n",
    "### Create Helper Functions"
   ]
  },
  {
   "cell_type": "code",
   "execution_count": 8,
   "metadata": {},
   "outputs": [],
   "source": [
    "def get_lens(value):\n",
    "    if value == \"svd\":\n",
    "        mapper = km.KeplerMapper(verbose=0)\n",
    "        projection = TruncatedSVD(n_components=2, random_state=1234)\n",
    "        lens = mapper.fit_transform(X, projection=projection)\n",
    "    if value == \"iso_l2\":\n",
    "        model = IsolationForest(random_state=1234, contamination=\"auto\", behaviour=\"new\")\n",
    "        model.fit(X)\n",
    "        lens1 = model.decision_function(X).reshape((X.shape[0], 1))\n",
    "        \n",
    "        mapper = km.KeplerMapper(verbose=0)\n",
    "        lens2 = mapper.fit_transform(X, projection=\"l2norm\")\n",
    "\n",
    "        lens = np.c_[lens1, lens2]\n",
    "    if value == \"umap\":\n",
    "        mapper = km.KeplerMapper(verbose=0)\n",
    "        projection = UMAP(n_neighbors=30, min_dist=0.01, random_state=1234)\n",
    "        lens = mapper.fit_transform(\n",
    "            X, projection=projection)\n",
    "    return lens\n",
    "\n",
    "def get_clusterer(value):\n",
    "    if value == \"dbscan\":\n",
    "        clusterer = DBSCAN(eps=0.5, min_samples=5)\n",
    "    if value == \"hdbscan\":\n",
    "        clusterer = HDBSCAN(allow_single_cluster=True)\n",
    "    if value == \"agglomerative_3\":\n",
    "        clusterer = AgglomerativeClustering(n_clusters=3)\n",
    "    if value == \"kmeans_3\":\n",
    "        clusterer = KMeans(n_clusters=3)\n",
    "    return clusterer"
   ]
  },
  {
   "cell_type": "markdown",
   "metadata": {},
   "source": [
    "### Define Buttons "
   ]
  },
  {
   "cell_type": "code",
   "execution_count": 9,
   "metadata": {},
   "outputs": [],
   "source": [
    "# Input Widgets\n",
    "\n",
    "lens_selector = widgets.Dropdown(\n",
    "    options=['svd', 'iso_l2', 'umap'],\n",
    "    value=\"svd\",\n",
    "    description=\"Projection\")\n",
    "\n",
    "clusterer_selector = widgets.Dropdown(\n",
    "    options=['dbscan', 'hdbscan', 'agglomerative_3', 'kmeans_3'],\n",
    "    value=\"dbscan\",\n",
    "    description=\"Clusterer\")\n",
    "\n",
    "cubes_slider = widgets.IntSlider(\n",
    "    value=10,\n",
    "    min=5,\n",
    "    max=50,\n",
    "    step=5,\n",
    "    description=\"N Cubes\",\n",
    "    disabled=False,\n",
    "    continuous_update=False,\n",
    ")\n",
    "\n",
    "overlap_slider = widgets.FloatSlider(\n",
    "    value=0.5,\n",
    "    min=0.05,\n",
    "    max=1.0,\n",
    "    step=0.05,\n",
    "    description=\"Overlap Percentage\",\n",
    "    disabled=False,\n",
    "    continuous_update=False,\n",
    "    style={\"description_width\": \"initial\"},\n",
    ")\n",
    "\n",
    "run_button = widgets.Button(description=\"Run\", style={\"width\": \"100%\"})\n",
    "\n",
    "# Output Widgets\n",
    "out_image = widgets.Output()\n",
    "\n",
    "# Layout\n",
    "controls = widgets.VBox(\n",
    "    [lens_selector, clusterer_selector, cubes_slider, overlap_slider, run_button]\n",
    ")\n",
    "\n",
    "layout = widgets.HBox([controls, out_image])"
   ]
  },
  {
   "cell_type": "code",
   "execution_count": 10,
   "metadata": {},
   "outputs": [],
   "source": [
    "def mapper_to_graph(mapper_graph):\n",
    "    _node_map = {node : index for index, node in enumerate(sorted(mapper_graph['nodes'].keys()))}\n",
    "    \n",
    "    _g = gt.Graph(directed=False)\n",
    "    _g.add_vertex(len(_node_map))\n",
    "    for node, links in mapper_graph['links'].items():\n",
    "        source_id = _node_map[node]\n",
    "        for link in links:\n",
    "            target_id = _node_map[link]\n",
    "            _g.add_edge(_g.vertex(source_id), _g.vertex(target_id))\n",
    "            \n",
    "    return _g, _node_map"
   ]
  },
  {
   "cell_type": "code",
   "execution_count": 11,
   "metadata": {},
   "outputs": [],
   "source": [
    "# This is the callback that will run when we click the button\n",
    "# The only argument is the button, where we'll save the mapper graph for potential later use\n",
    "\n",
    "def use_mapper(b):\n",
    "    _lens = get_lens(lens_selector.value)\n",
    "    _clusterer = get_clusterer(clusterer_selector.value)\n",
    "    _cover = km.Cover(n_cubes=cubes_slider.value,\n",
    "                     perc_overlap=overlap_slider.value)\n",
    "    _mapper = km.KeplerMapper(verbose=0)\n",
    "    _graph = _mapper.map(lens=_lens, X=X, cover=_cover, clusterer=_clusterer)\n",
    "    _g, _ = mapper_to_graph(_graph)\n",
    "    with out_image:\n",
    "        clear_output()\n",
    "        gt.graph_draw(_g, output_size=(600,600));\n",
    "    b.graph = _graph\n",
    "\n",
    "\n",
    "run_button.on_click(use_mapper)"
   ]
  },
  {
   "cell_type": "code",
   "execution_count": 12,
   "metadata": {},
   "outputs": [
    {
     "data": {
      "application/vnd.jupyter.widget-view+json": {
       "model_id": "56393cd5badb495cafaab2877c889568",
       "version_major": 2,
       "version_minor": 0
      },
      "text/plain": [
       "HBox(children=(VBox(children=(Dropdown(description='Projection', options=('svd', 'iso_l2', 'umap'), value='svd…"
      ]
     },
     "metadata": {},
     "output_type": "display_data"
    }
   ],
   "source": [
    "display(layout)"
   ]
  },
  {
   "cell_type": "markdown",
   "metadata": {},
   "source": [
    "## Plot by Variable\n",
    "Now that you have a map, it can be helpful to view the map by plotting the variation among a specific variable. This takes all the observations that are a part of a node and calculates the mean value for them with any variable.\n",
    "\n",
    "Remember that a node in the mapper network is the abstract idea of a *pattern* of responses, and row-level observations can appear in multiple nodes (if they can be described with multiple patterns).\n",
    "\n",
    "⚠️ If you dont have a graph defined above, you'll need to run at least one before proceeding."
   ]
  },
  {
   "cell_type": "markdown",
   "metadata": {},
   "source": [
    "### Define \"Global\" Variables"
   ]
  },
  {
   "cell_type": "code",
   "execution_count": 24,
   "metadata": {},
   "outputs": [],
   "source": [
    "try:\n",
    "    graph = run_button.graph\n",
    "    g, nmap = mapper_to_graph(graph)\n",
    "    columns = list(X.columns)\n",
    "except AttributeError:\n",
    "    display(HTML(\"<h1 style='color: blue'>⚠️ Please use widgets above to run the mapper algorithm and define a graph</h1>\"))"
   ]
  },
  {
   "cell_type": "markdown",
   "metadata": {},
   "source": [
    "### Define Helper Functions"
   ]
  },
  {
   "cell_type": "code",
   "execution_count": 25,
   "metadata": {},
   "outputs": [],
   "source": [
    "def assign_position(_g, reset=False):\n",
    "    if not _g.vertex_properties.get(\"pos\", None) or reset:\n",
    "        pos = gt.sfdp_layout(_g)\n",
    "        _g.vertex_properties[\"pos\"] = pos\n",
    "        \n",
    "def get_node_means(df, column, mapper_graph, node_map):\n",
    "    node_means = {}\n",
    "    for n, i in node_map.items():\n",
    "        rows = mapper_graph['nodes'][n]\n",
    "        mean = df.loc[rows, column].mean()\n",
    "        node_means[i] = mean\n",
    "    return [v for _, v in sorted(node_means.items())]"
   ]
  },
  {
   "cell_type": "markdown",
   "metadata": {},
   "source": [
    "### Create Node Color Map Viz"
   ]
  },
  {
   "cell_type": "code",
   "execution_count": 26,
   "metadata": {},
   "outputs": [
    {
     "data": {
      "application/vnd.jupyter.widget-view+json": {
       "model_id": "c47c3812c77b491dbaf72d819b265f98",
       "version_major": 2,
       "version_minor": 0
      },
      "text/plain": [
       "HBox(children=(Output(layout=Layout(height='600px', width='600px')), Select(description='Column', options=('E1…"
      ]
     },
     "metadata": {},
     "output_type": "display_data"
    }
   ],
   "source": [
    "col_dropdown = widgets.Select(\n",
    "    options=columns, value=columns[0], description=\"Column\", rows=25, disabled=False\n",
    ")\n",
    "\n",
    "\n",
    "def draw_column_means(col):\n",
    "    _vmeans = get_node_means(X, col, graph, nmap)\n",
    "    _vprop_col = g.new_vertex_property(\"float\", vals=_vmeans)\n",
    "    assign_position(g)\n",
    "    gt.graph_draw(\n",
    "        g,\n",
    "        pos=g.vp.pos,\n",
    "        vertex_fill_color=_vprop_col,\n",
    "        vcmap=(matplotlib.cm.viridis, .5),\n",
    "        output_size=(600, 600),\n",
    "    )\n",
    "\n",
    "\n",
    "out = widgets.interactive_output(draw_column_means, {\"col\": col_dropdown})\n",
    "out.layout.height = \"600px\"\n",
    "out.layout.width = \"600px\"\n",
    "\n",
    "widgets.HBox([out, col_dropdown])"
   ]
  },
  {
   "cell_type": "markdown",
   "metadata": {},
   "source": [
    "## Categorical Node Coloring\n",
    "One of the nice things we can do since nodes are circles is draw pie charts over them. We can use this to see if the distribution of categorical variables varies per node!\n",
    "\n",
    "### Declare \"Global\" Variables"
   ]
  },
  {
   "cell_type": "code",
   "execution_count": 27,
   "metadata": {},
   "outputs": [],
   "source": [
    "categorical_columns = ['race', 'engnat', 'gender', 'hand', 'source', 'country']"
   ]
  },
  {
   "cell_type": "markdown",
   "metadata": {},
   "source": [
    "### Create Helper Functions"
   ]
  },
  {
   "cell_type": "code",
   "execution_count": 28,
   "metadata": {},
   "outputs": [],
   "source": [
    "def get_node_categorical_distribution(df, column, mapper_graph, node_map):\n",
    "    node_category_distribution = {}\n",
    "    category_order = list(df.loc[:, column].value_counts().index)\n",
    "    for n, i in node_map.items():\n",
    "        rows = mapper_graph[\"nodes\"][n]\n",
    "        category_value_counts = (\n",
    "            df.loc[rows, column].value_counts(normalize=True).to_dict()\n",
    "        )\n",
    "        node_category_distribution[i] = [\n",
    "            category_value_counts.get(c, 0.0) for c in category_order\n",
    "        ]\n",
    "    return [v for _, v in sorted(node_category_distribution.items())], category_order\n",
    "\n",
    "\n",
    "def clamp(x):\n",
    "    if isinstance(x, float):\n",
    "        x = int(x * 255)\n",
    "    return max(0, min(x, 255))\n",
    "\n",
    "\n",
    "def color_text(text, hex_code):\n",
    "    return f\"<p style='color: {hex_code}'>{text}</p>\"\n"
   ]
  },
  {
   "cell_type": "markdown",
   "metadata": {},
   "source": [
    "### Create categorical color maps\n",
    "We're using the Tableau20 color map from matplotlib, but since the order is paired by color (eg dark blue, light blue), we're going to alternate the colors so that we can better cycle through. We'll also convert to hex so that we can create a legend."
   ]
  },
  {
   "cell_type": "code",
   "execution_count": 29,
   "metadata": {},
   "outputs": [],
   "source": [
    "tab_20_alt = matplotlib.cm.tab20.colors[0::2] + matplotlib.cm.tab20.colors[1::2]\n",
    "tab_20_alt_hex = [\"#{0:02x}{1:02x}{2:02x}\".format(clamp(r), clamp(g), clamp(b)) for (r, g, b) in tab_20_alt]"
   ]
  },
  {
   "cell_type": "markdown",
   "metadata": {},
   "source": [
    "### Cateogorical Node Color Viz"
   ]
  },
  {
   "cell_type": "code",
   "execution_count": 30,
   "metadata": {},
   "outputs": [
    {
     "data": {
      "application/vnd.jupyter.widget-view+json": {
       "model_id": "d31ed73568ef42ec81debe1e9a91ca74",
       "version_major": 2,
       "version_minor": 0
      },
      "text/plain": [
       "HBox(children=(Output(layout=Layout(height='600px', width='600px')), VBox(children=(Select(description='Column…"
      ]
     },
     "metadata": {},
     "output_type": "display_data"
    }
   ],
   "source": [
    "cat_col_dropdown = widgets.Select(\n",
    "    options=categorical_columns, value=categorical_columns[0], description=\"Column\", rows=10\n",
    ")\n",
    "\n",
    "\n",
    "def draw_cat_column_dist(col):\n",
    "    _vdist, _  = get_node_categorical_distribution(df, col, graph, nmap)\n",
    "    _vprop_col = g.new_vertex_property(\"vector<float>\", vals=_vdist)\n",
    "    assign_position(g)\n",
    "    gt.graph_draw(\n",
    "        g,\n",
    "        pos=g.vp.pos,\n",
    "        vertex_shape=\"pie\",\n",
    "        vertex_pie_fractions=_vprop_col,\n",
    "        vertex_pie_colors=tab_20_alt,\n",
    "        output_size=(600, 600),\n",
    "    )\n",
    "\n",
    "def draw_cat_legend(col):\n",
    "    _, _cat_order  = get_node_categorical_distribution(df, col, graph, nmap)\n",
    "    legend_title_html = \"<p><strong>Legend</strong></p>\"\n",
    "    legend_color_html = \"\".join([color_text(cat, color) for cat, color in zip(_cat_order, tab_20_alt_hex)])\n",
    "    display(HTML(legend_title_html + legend_color_html))\n",
    "\n",
    "\n",
    "out_cat = widgets.interactive_output(draw_cat_column_dist, {\"col\": cat_col_dropdown})\n",
    "out_cat.layout.height = \"600px\"\n",
    "out_cat.layout.width = \"600px\"\n",
    "\n",
    "out_legend = widgets.interactive_output(draw_cat_legend, {\"col\": cat_col_dropdown})\n",
    "\n",
    "widgets.HBox([out_cat, widgets.VBox([cat_col_dropdown, out_legend])])"
   ]
  },
  {
   "cell_type": "code",
   "execution_count": null,
   "metadata": {},
   "outputs": [],
   "source": []
  }
 ],
 "metadata": {
  "kernelspec": {
   "display_name": "Python 3",
   "language": "python",
   "name": "python3"
  },
  "language_info": {
   "codemirror_mode": {
    "name": "ipython",
    "version": 3
   },
   "file_extension": ".py",
   "mimetype": "text/x-python",
   "name": "python",
   "nbconvert_exporter": "python",
   "pygments_lexer": "ipython3",
   "version": "3.6.5"
  }
 },
 "nbformat": 4,
 "nbformat_minor": 2
}
